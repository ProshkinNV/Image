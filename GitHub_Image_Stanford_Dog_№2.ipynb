{
  "nbformat": 4,
  "nbformat_minor": 0,
  "metadata": {
    "colab": {
      "provenance": [],
      "gpuType": "T4",
      "include_colab_link": true
    },
    "kernelspec": {
      "name": "python3",
      "display_name": "Python 3"
    },
    "language_info": {
      "name": "python"
    },
    "accelerator": "GPU"
  },
  "cells": [
    {
      "cell_type": "markdown",
      "metadata": {
        "id": "view-in-github",
        "colab_type": "text"
      },
      "source": [
        "<a href=\"https://colab.research.google.com/github/ProshkinNV/Image/blob/main/GitHub_Image_Stanford_Dog_%E2%84%962.ipynb\" target=\"_parent\"><img src=\"https://colab.research.google.com/assets/colab-badge.svg\" alt=\"Open In Colab\"/></a>"
      ]
    },
    {
      "cell_type": "code",
      "source": [
        "import random\n",
        "import shutil\n",
        "\n",
        "from tensorflow import data as tf_data\n",
        "import os\n",
        "import keras\n",
        "from keras import layers\n",
        "from keras.applications import EfficientNetV2B0"
      ],
      "metadata": {
        "id": "cpzCiKSY-3Ur"
      },
      "execution_count": null,
      "outputs": []
    },
    {
      "cell_type": "code",
      "source": [
        "!wget https://storage.yandexcloud.net/academy.ai/stanford_dogs.zip"
      ],
      "metadata": {
        "id": "IWL1mb_8rDah"
      },
      "execution_count": null,
      "outputs": []
    },
    {
      "cell_type": "code",
      "source": [
        "# Разархивируем датасета во временную папку 'temp'\n",
        "!unzip -qo \"stanford_dogs\" -d ./dataset\n",
        "\n",
        "# Папка с папками картинок, рассортированных по категориям\n",
        "IMAGE_PATH = './dataset/'"
      ],
      "metadata": {
        "id": "w4uE2EbcrL8r"
      },
      "execution_count": null,
      "outputs": []
    },
    {
      "cell_type": "code",
      "source": [
        "num_skipped = 0 # счетчик поврежденных файлов\n",
        "for folder_name in os.listdir(IMAGE_PATH): # перебираем папки\n",
        "    folder_path = os.path.join(IMAGE_PATH, folder_name) # склеиваем путь\n",
        "    for fname in os.listdir(folder_path): # получаем список файлов в папке\n",
        "        fpath = os.path.join(folder_path, fname) # получаем путь до файла\n",
        "        try:\n",
        "            fobj = open(fpath, \"rb\") # пытаемся открыть файл для бинарного чтения (rb)\n",
        "            is_jfif = b\"JFIF\" in fobj.peek(10) # получаем первые 10 байт из файла и ищем в них бинарный вариант строки JFIF\n",
        "        finally:\n",
        "            fobj.close() # Закрываем файл\n",
        "\n",
        "        if not is_jfif: # Если не нашли JFIF строку\n",
        "            # Увеличиваем счетчик\n",
        "            num_skipped += 1\n",
        "            # Удаляем поврежденное изображение\n",
        "            os.remove(fpath)\n",
        "\n",
        "print(f\"Удалено изображений: {num_skipped}\")"
      ],
      "metadata": {
        "id": "bn5DrCLbrNUz"
      },
      "execution_count": null,
      "outputs": []
    },
    {
      "cell_type": "code",
      "source": [
        "train_ds, val_ds = keras.utils.image_dataset_from_directory(\n",
        "    IMAGE_PATH, # путь к папке с данными\n",
        "    validation_split=0.2, # отщепляем 20% на проверочную выборку\n",
        "    subset=\"both\", # указываем, что необходимо вернуть кортеж из обучающей и проверочной выборок (\"training\", \"validation\" или \"both\")\n",
        "    seed=42,  # воспроизводимость результата генерации (результаты с одинаковым числом - одинаковы),\n",
        "    shuffle=True, # перемешиваем датасет\n",
        "    image_size=IMAGE_SIZE, # размер генерируемых изображений\n",
        "    batch_size=BATCH_SIZE, # размер мини-батча\n",
        ")"
      ],
      "metadata": {
        "id": "Xw05wuWXrQ62"
      },
      "execution_count": null,
      "outputs": []
    },
    {
      "cell_type": "code",
      "source": [
        "# Определяем список имен классов\n",
        "CLASS_LIST = sorted(os.listdir(IMAGE_PATH))\n",
        "\n",
        "# Определяем количества классов\n",
        "CLASS_COUNT = len(CLASS_LIST)\n",
        "\n",
        "# Вывод результата\n",
        "print(f'Количество классов: {CLASS_COUNT}')\n",
        "print(f'Метки классов: {CLASS_LIST}')"
      ],
      "metadata": {
        "id": "WWjd_sZZrTF3"
      },
      "execution_count": null,
      "outputs": []
    },
    {
      "cell_type": "code",
      "source": [
        "RAND_CLASS = []\n",
        "random.shuffle(CLASS_LIST)\n",
        "\n",
        "i = 0\n",
        "while (i < 10):\n",
        "  RAND_CLASS.append(CLASS_LIST[i])\n",
        "  i+= 1\n",
        "\n",
        "print(RAND_CLASS)"
      ],
      "metadata": {
        "id": "d1i0xoog_lYf",
        "colab": {
          "base_uri": "https://localhost:8080/"
        },
        "outputId": "6336332e-6ead-4856-f43b-fcb33ac64194"
      },
      "execution_count": null,
      "outputs": [
        {
          "output_type": "stream",
          "name": "stdout",
          "text": [
            "['Samoyed', 'Border_collie', 'Collie', 'Afghan_hound', 'English_springer', 'Bouvier_des_Flandres', 'American_Staffordshire_terrier', 'Appenzeller', 'Scottish_deerhound', 'Border_terrier']\n"
          ]
        }
      ]
    },
    {
      "cell_type": "code",
      "source": [
        "print(\"Текущая деректория:\", os.getcwd())"
      ],
      "metadata": {
        "colab": {
          "base_uri": "https://localhost:8080/"
        },
        "id": "l3a2ngRfvhwx",
        "outputId": "550295e1-5432-4ab3-d8f3-20c4567ae889"
      },
      "execution_count": null,
      "outputs": [
        {
          "output_type": "stream",
          "name": "stdout",
          "text": [
            "Текущая деректория: /content\n"
          ]
        }
      ]
    },
    {
      "cell_type": "code",
      "source": [
        "OLD_PATH = './dataset/'\n",
        "NEW_PATH = './folder_RAND_CLASS/'\n",
        "\n",
        "IMAGE_SIZE = (224, 224) # Размер определен выбором модели\n",
        "BATCH_SIZE = 128\n",
        "\n",
        "if not os.path.exists('folder_RAND_CLASS'):\n",
        "  os.mkdir(\"folder_RAND_CLASS\")"
      ],
      "metadata": {
        "id": "WzB8za5ew4nd"
      },
      "execution_count": null,
      "outputs": []
    },
    {
      "cell_type": "code",
      "source": [
        "for folder in RAND_CLASS:\n",
        "  old_temp_path = OLD_PATH + folder\n",
        "  new_temp_path = NEW_PATH + folder\n",
        "  shutil.copytree(old_temp_path, new_temp_path)"
      ],
      "metadata": {
        "id": "7Fo4PbZy3XGr"
      },
      "execution_count": null,
      "outputs": []
    },
    {
      "cell_type": "markdown",
      "source": [
        "**Создание датасэта**"
      ],
      "metadata": {
        "id": "Pj16Zgrm57LS"
      }
    },
    {
      "cell_type": "code",
      "source": [
        "train_ds, val_ds = keras.utils.image_dataset_from_directory(\n",
        "    NEW_PATH, # путь к папке с данными\n",
        "    validation_split=0.2, # отщепляем 20% на проверочную выборку\n",
        "    subset=\"both\", # указываем, что необходимо вернуть кортеж из обучающей и проверочной выборок (\"training\", \"validation\" или \"both\")\n",
        "    seed=42,  # воспроизводимость результата генерации (результаты с одинаковым числом - одинаковы),\n",
        "    shuffle=True, # перемешиваем датасет\n",
        "    image_size=IMAGE_SIZE, # размер генерируемых изображений\n",
        "    batch_size=BATCH_SIZE, # размер мини-батча\n",
        ")"
      ],
      "metadata": {
        "colab": {
          "base_uri": "https://localhost:8080/"
        },
        "id": "g3cQ5Il-50J1",
        "outputId": "56547877-2cb9-430c-e7fd-27775d8418d6"
      },
      "execution_count": null,
      "outputs": [
        {
          "output_type": "stream",
          "name": "stdout",
          "text": [
            "Found 1788 files belonging to 10 classes.\n",
            "Using 1431 files for training.\n",
            "Using 357 files for validation.\n"
          ]
        }
      ]
    },
    {
      "cell_type": "markdown",
      "source": [
        "**Определяем метки**"
      ],
      "metadata": {
        "id": "NdWaQq4W6e1W"
      }
    },
    {
      "cell_type": "code",
      "source": [
        "# Определяем список имен классов\n",
        "CLASS_LIST_NEW = sorted(RAND_CLASS)\n",
        "\n",
        "# Определяем количества классов\n",
        "CLASS_COUNT_NEW = len(RAND_CLASS)\n",
        "\n",
        "# Вывод результата\n",
        "print(f'Количество классов: {CLASS_COUNT_NEW}')\n",
        "print(f'Метки классов: {CLASS_LIST_NEW}')"
      ],
      "metadata": {
        "colab": {
          "base_uri": "https://localhost:8080/"
        },
        "id": "UauASA-v6ght",
        "outputId": "05f7149c-8c5f-483b-eb40-0ff149c06292"
      },
      "execution_count": null,
      "outputs": [
        {
          "output_type": "stream",
          "name": "stdout",
          "text": [
            "Количество классов: 10\n",
            "Метки классов: ['Afghan_hound', 'American_Staffordshire_terrier', 'Appenzeller', 'Border_collie', 'Border_terrier', 'Bouvier_des_Flandres', 'Collie', 'English_springer', 'Samoyed', 'Scottish_deerhound']\n"
          ]
        }
      ]
    },
    {
      "cell_type": "markdown",
      "source": [
        "**Аугментация изображений**"
      ],
      "metadata": {
        "id": "hCsrBrRw6599"
      }
    },
    {
      "cell_type": "code",
      "source": [
        "img_augmentation_layers = [\n",
        "    layers.RandomRotation(factor=0.15), # Вращаем изображение в пределах 15%\n",
        "    layers.RandomTranslation(height_factor=0.1, width_factor=0.1), # Сдвиг на 10% по вертикали и горизонтали\n",
        "    layers.RandomFlip(), # Отражение по вертикали и горизонтали\n",
        "    layers.RandomContrast(factor=0.1), # Изменяем контрастность на 10%\n",
        "]\n",
        "\n",
        "\n",
        "def img_augmentation(images):\n",
        "    # Слои - это функции, которые мы последовательно применяем к входным данным\n",
        "    for layer in img_augmentation_layers:\n",
        "        images = layer(images)\n",
        "    return images"
      ],
      "metadata": {
        "id": "2fAC-VrA68nq"
      },
      "execution_count": null,
      "outputs": []
    },
    {
      "cell_type": "markdown",
      "source": [
        "**Предварительная обработка данных**"
      ],
      "metadata": {
        "id": "H1H_y2hN7O_T"
      }
    },
    {
      "cell_type": "code",
      "source": [
        "# Применяем `img_augmentation` к обучающей выборке\n",
        "train_ds = train_ds.map(\n",
        "    lambda img, label: (img_augmentation(img), keras.ops.one_hot(label, CLASS_COUNT_NEW)), # One-hot кодирование\n",
        "    num_parallel_calls=tf_data.AUTOTUNE, # число потоков для обработки в map (автонастройка зависит от возможностей процессора)\n",
        ")\n",
        "\n",
        "val_ds = val_ds.map(\n",
        "    lambda img, label: (img, keras.ops.one_hot(label, CLASS_COUNT_NEW)), # One-hot кодирование\n",
        "    num_parallel_calls=tf_data.AUTOTUNE, # число потоков для обработки в map (автонастройка зависит от возможностей процессора)\n",
        ")\n",
        "\n",
        "# Предварительная выборка примеров в память GPU или оперативную память\n",
        "# Помогает максимально эффективно использовать графический процессор\n",
        "train_ds = train_ds.prefetch(tf_data.AUTOTUNE)\n",
        "val_ds = val_ds.prefetch(tf_data.AUTOTUNE)"
      ],
      "metadata": {
        "id": "7jofWtpU7H_u"
      },
      "execution_count": null,
      "outputs": []
    },
    {
      "cell_type": "markdown",
      "source": [
        "**Построение модели**"
      ],
      "metadata": {
        "id": "i6PJ468d8C53"
      }
    },
    {
      "cell_type": "code",
      "source": [
        "def build_model(num_classes):\n",
        "    inputs = layers.Input(shape=(IMAGE_SIZE[0], IMAGE_SIZE[1], 3))\n",
        "    model = EfficientNetV2B0(include_top=False, input_tensor=inputs, weights=\"imagenet\")\n",
        "\n",
        "    # Заморозка предобученных весов\n",
        "    model.trainable = False\n",
        "\n",
        "    # Замена верхних слоев\n",
        "    x = layers.GlobalAveragePooling2D(name=\"avg_pool\")(model.output)\n",
        "    x = layers.BatchNormalization()(x)\n",
        "\n",
        "    top_dropout_rate = 0.2\n",
        "    x = layers.Dropout(top_dropout_rate, name=\"top_dropout\")(x)\n",
        "    outputs = layers.Dense(num_classes, activation=\"softmax\", name=\"pred\")(x)\n",
        "\n",
        "    # Компилируем\n",
        "    model = keras.Model(inputs, outputs, name=\"EfficientNet\")\n",
        "    optimizer = keras.optimizers.Adam(learning_rate=1e-2)\n",
        "    model.compile(\n",
        "        optimizer=optimizer, loss=\"categorical_crossentropy\", metrics=[\"acc\"]\n",
        "    )\n",
        "    return model"
      ],
      "metadata": {
        "id": "g1vxq1mD8FDg"
      },
      "execution_count": null,
      "outputs": []
    },
    {
      "cell_type": "markdown",
      "source": [
        "**Обучаем модель**"
      ],
      "metadata": {
        "id": "G8KrdqdM8s3z"
      }
    },
    {
      "cell_type": "code",
      "source": [
        "epochs = 5\n",
        "\n",
        "callbacks = [\n",
        "    keras.callbacks.ModelCheckpoint(filepath = 'best_model_pretrain.keras',\n",
        "                             monitor = 'val_acc',\n",
        "                             save_best_only = True,\n",
        "                             mode = 'max',\n",
        "                             verbose = 0)\n",
        "]\n",
        "\n",
        "model = build_model(num_classes=CLASS_COUNT_NEW)\n",
        "\n",
        "\n",
        "history = model.fit(train_ds, epochs=epochs, validation_data=val_ds, callbacks=callbacks)"
      ],
      "metadata": {
        "colab": {
          "base_uri": "https://localhost:8080/"
        },
        "id": "ghzA53e58sRA",
        "outputId": "27deec82-a303-4797-bc5c-29648f543c84"
      },
      "execution_count": null,
      "outputs": [
        {
          "output_type": "stream",
          "name": "stdout",
          "text": [
            "Epoch 1/5\n",
            "\u001b[1m12/12\u001b[0m \u001b[32m━━━━━━━━━━━━━━━━━━━━\u001b[0m\u001b[37m\u001b[0m \u001b[1m130s\u001b[0m 6s/step - acc: 0.5935 - loss: 1.4035 - val_acc: 0.9048 - val_loss: 0.2172\n",
            "Epoch 2/5\n",
            "\u001b[1m12/12\u001b[0m \u001b[32m━━━━━━━━━━━━━━━━━━━━\u001b[0m\u001b[37m\u001b[0m \u001b[1m44s\u001b[0m 1s/step - acc: 0.8532 - loss: 0.6086 - val_acc: 0.9580 - val_loss: 0.1416\n",
            "Epoch 3/5\n",
            "\u001b[1m12/12\u001b[0m \u001b[32m━━━━━━━━━━━━━━━━━━━━\u001b[0m\u001b[37m\u001b[0m \u001b[1m22s\u001b[0m 2s/step - acc: 0.8748 - loss: 0.5002 - val_acc: 0.9160 - val_loss: 0.1514\n",
            "Epoch 4/5\n",
            "\u001b[1m12/12\u001b[0m \u001b[32m━━━━━━━━━━━━━━━━━━━━\u001b[0m\u001b[37m\u001b[0m \u001b[1m21s\u001b[0m 1s/step - acc: 0.8635 - loss: 0.5338 - val_acc: 0.9608 - val_loss: 0.1077\n",
            "Epoch 5/5\n",
            "\u001b[1m12/12\u001b[0m \u001b[32m━━━━━━━━━━━━━━━━━━━━\u001b[0m\u001b[37m\u001b[0m \u001b[1m43s\u001b[0m 2s/step - acc: 0.8845 - loss: 0.5414 - val_acc: 0.9552 - val_loss: 0.1135\n"
          ]
        }
      ]
    },
    {
      "cell_type": "markdown",
      "source": [
        "Точность на обучающей выборка достигла 88%\n",
        "\n",
        "Точночть на валидационной выборке достигла 96%"
      ],
      "metadata": {
        "id": "ih3kMIWbI_EX"
      }
    }
  ]
}